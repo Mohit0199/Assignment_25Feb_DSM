{
 "cells": [
  {
   "cell_type": "code",
   "execution_count": 3,
   "id": "a64378fa-b23e-4612-b49d-050a7f03f573",
   "metadata": {},
   "outputs": [],
   "source": [
    "#Consider following code to answer further questions:\n",
    "\n",
    "import pandas as pd\n",
    "\n",
    "course_name = ['Data Science', 'Machine Learning', 'Big Data', 'Data Engineer']\n",
    "\n",
    "duration =  [2,3,6,4]\n",
    "\n",
    "df = pd.DataFrame(data = {'course_name' : course_name, 'duration' : duration})"
   ]
  },
  {
   "cell_type": "code",
   "execution_count": 4,
   "id": "197595a2-b457-43d0-9a82-ae34c3a9a827",
   "metadata": {},
   "outputs": [
    {
     "name": "stdout",
     "output_type": "stream",
     "text": [
      "course_name    Machine Learning\n",
      "duration                      3\n",
      "Name: 1, dtype: object\n"
     ]
    }
   ],
   "source": [
    "# Q1. Write a code to print the data present in the second row of the dataframe, df\n",
    "\n",
    "print(df.iloc[1])"
   ]
  },
  {
   "cell_type": "code",
   "execution_count": 5,
   "id": "6199cbc8-70cc-4b92-a1dd-a1802b4442f6",
   "metadata": {},
   "outputs": [],
   "source": [
    "# Q2. What is the difference between the functions loc and iloc in pandas.DataFrame?\n",
    "\n",
    "## In pandas, loc and iloc are used for data selection but differ in their indexing methods. \n",
    "## loc is label-based, meaning it accesses rows and columns using their labels or names and includes\n",
    "## the end label in its selection. For example, df.loc['row1', 'column1'] selects data from row 'row1' and column\n",
    "## 'column1'. On the other hand, iloc is integer-based and uses positional indexing to access data by row and\n",
    "## column indices, excluding the end index in its selection. For instance, df.iloc[0, 1] selects data from the\n",
    "## first row and the second column. Essentially, use loc for label-based selection and iloc for position-based selection."
   ]
  },
  {
   "cell_type": "code",
   "execution_count": 8,
   "id": "de66299a-d9bb-4ddb-adbc-5f898ba845e5",
   "metadata": {},
   "outputs": [
    {
     "name": "stdout",
     "output_type": "stream",
     "text": [
      "new_df.loc[2]:\n",
      "course_name    Big Data\n",
      "duration              6\n",
      "Name: 2, dtype: object\n",
      "\n",
      "new_df.iloc[2]:\n",
      "course_name    Machine Learning\n",
      "duration                      3\n",
      "Name: 1, dtype: object\n"
     ]
    }
   ],
   "source": [
    "# Q3. Reindex the given dataframe using a variable, reindex = [3,0,1,2] and store it in the variable, new_df \n",
    "# then find the output for both new_df.loc[2] and new_df.iloc[2]\n",
    "# Did you observe any difference in both the outputs? If so then explain it\n",
    "\n",
    "reindex = [3, 0, 1, 2]\n",
    "new_df = df.reindex(reindex)\n",
    "\n",
    "loc_result = new_df.loc[2]\n",
    "iloc_result = new_df.iloc[2]\n",
    "\n",
    "print(\"new_df.loc[2]:\")\n",
    "print(loc_result)\n",
    "\n",
    "print(\"\\nnew_df.iloc[2]:\")\n",
    "print(iloc_result)\n",
    "\n",
    "## .loc[2]: This accesses the row with the label 2. Since the DataFrame is reindexed,\n",
    "## it retrieves the row that was originally at index 2 in df, which corresponds to course_name: 'Big Data'\n",
    "## and duration: 6.\n",
    "\n",
    "## .iloc[2]: This accesses the row at position 2 in the DataFrame. After reindexing, this is the third row, \n",
    "## which corresponds to the original row at index 1 in df, which is course_name: 'Machine Learning' and duration: 3."
   ]
  },
  {
   "cell_type": "code",
   "execution_count": 10,
   "id": "378cd466-4976-4f48-b695-0f6977376344",
   "metadata": {},
   "outputs": [
    {
     "data": {
      "text/html": [
       "<div>\n",
       "<style scoped>\n",
       "    .dataframe tbody tr th:only-of-type {\n",
       "        vertical-align: middle;\n",
       "    }\n",
       "\n",
       "    .dataframe tbody tr th {\n",
       "        vertical-align: top;\n",
       "    }\n",
       "\n",
       "    .dataframe thead th {\n",
       "        text-align: right;\n",
       "    }\n",
       "</style>\n",
       "<table border=\"1\" class=\"dataframe\">\n",
       "  <thead>\n",
       "    <tr style=\"text-align: right;\">\n",
       "      <th></th>\n",
       "      <th>column_1</th>\n",
       "      <th>column_2</th>\n",
       "      <th>column_3</th>\n",
       "      <th>column_4</th>\n",
       "      <th>column_5</th>\n",
       "      <th>column_6</th>\n",
       "    </tr>\n",
       "  </thead>\n",
       "  <tbody>\n",
       "    <tr>\n",
       "      <th>1</th>\n",
       "      <td>0.673967</td>\n",
       "      <td>0.745199</td>\n",
       "      <td>0.672293</td>\n",
       "      <td>0.081753</td>\n",
       "      <td>0.472983</td>\n",
       "      <td>0.852298</td>\n",
       "    </tr>\n",
       "    <tr>\n",
       "      <th>2</th>\n",
       "      <td>0.544825</td>\n",
       "      <td>0.851021</td>\n",
       "      <td>0.834567</td>\n",
       "      <td>0.168153</td>\n",
       "      <td>0.284788</td>\n",
       "      <td>0.435292</td>\n",
       "    </tr>\n",
       "    <tr>\n",
       "      <th>3</th>\n",
       "      <td>0.795925</td>\n",
       "      <td>0.859560</td>\n",
       "      <td>0.565921</td>\n",
       "      <td>0.019717</td>\n",
       "      <td>0.553967</td>\n",
       "      <td>0.335085</td>\n",
       "    </tr>\n",
       "    <tr>\n",
       "      <th>4</th>\n",
       "      <td>0.576247</td>\n",
       "      <td>0.940779</td>\n",
       "      <td>0.180192</td>\n",
       "      <td>0.119180</td>\n",
       "      <td>0.698528</td>\n",
       "      <td>0.410894</td>\n",
       "    </tr>\n",
       "    <tr>\n",
       "      <th>5</th>\n",
       "      <td>0.425125</td>\n",
       "      <td>0.880262</td>\n",
       "      <td>0.750048</td>\n",
       "      <td>0.612475</td>\n",
       "      <td>0.280885</td>\n",
       "      <td>0.961179</td>\n",
       "    </tr>\n",
       "    <tr>\n",
       "      <th>6</th>\n",
       "      <td>0.108026</td>\n",
       "      <td>0.833565</td>\n",
       "      <td>0.190349</td>\n",
       "      <td>0.137149</td>\n",
       "      <td>0.530741</td>\n",
       "      <td>0.049349</td>\n",
       "    </tr>\n",
       "  </tbody>\n",
       "</table>\n",
       "</div>"
      ],
      "text/plain": [
       "   column_1  column_2  column_3  column_4  column_5  column_6\n",
       "1  0.673967  0.745199  0.672293  0.081753  0.472983  0.852298\n",
       "2  0.544825  0.851021  0.834567  0.168153  0.284788  0.435292\n",
       "3  0.795925  0.859560  0.565921  0.019717  0.553967  0.335085\n",
       "4  0.576247  0.940779  0.180192  0.119180  0.698528  0.410894\n",
       "5  0.425125  0.880262  0.750048  0.612475  0.280885  0.961179\n",
       "6  0.108026  0.833565  0.190349  0.137149  0.530741  0.049349"
      ]
     },
     "execution_count": 10,
     "metadata": {},
     "output_type": "execute_result"
    }
   ],
   "source": [
    "# Consider the below code to answer further questions\n",
    "import pandas as pd\n",
    "\n",
    "import numpy as np\n",
    "\n",
    "columns = ['column_1', 'column_2', 'column_3', 'column_4', 'column_5', 'column_6']\n",
    "\n",
    "indices = [1,2,3,4,5,6]\n",
    "\n",
    "#Creating a dataframe:\n",
    "\n",
    "df1 = pd.DataFrame(np.random.rand(6,6), columns = columns, index = indices)\n",
    "df1"
   ]
  },
  {
   "cell_type": "code",
   "execution_count": 13,
   "id": "364c5229-22aa-4222-bab6-ade704e5a38c",
   "metadata": {},
   "outputs": [
    {
     "name": "stdout",
     "output_type": "stream",
     "text": [
      "column_1    0.520686\n",
      "column_2    0.851731\n",
      "column_3    0.532228\n",
      "column_4    0.189738\n",
      "column_5    0.470315\n",
      "column_6    0.507350\n",
      "dtype: float64\n",
      "std of column_2: 0.06400686413910726\n"
     ]
    }
   ],
   "source": [
    "# Q4. Write a code to find the following statistical measurements for the above dataframe df1:\n",
    "\n",
    "# (i) \tmean of each and every column present in the dataframe.\n",
    "print(df1.mean())\n",
    "\n",
    "# (ii) standard deviation of column, 'column_2'\n",
    "print(f\"std of column_2: {df1['column_2'].std()}\")"
   ]
  },
  {
   "cell_type": "code",
   "execution_count": 15,
   "id": "d5c95029-444a-4057-ac27-7d1619473449",
   "metadata": {},
   "outputs": [
    {
     "data": {
      "text/html": [
       "<div>\n",
       "<style scoped>\n",
       "    .dataframe tbody tr th:only-of-type {\n",
       "        vertical-align: middle;\n",
       "    }\n",
       "\n",
       "    .dataframe tbody tr th {\n",
       "        vertical-align: top;\n",
       "    }\n",
       "\n",
       "    .dataframe thead th {\n",
       "        text-align: right;\n",
       "    }\n",
       "</style>\n",
       "<table border=\"1\" class=\"dataframe\">\n",
       "  <thead>\n",
       "    <tr style=\"text-align: right;\">\n",
       "      <th></th>\n",
       "      <th>column_1</th>\n",
       "      <th>column_2</th>\n",
       "      <th>column_3</th>\n",
       "      <th>column_4</th>\n",
       "      <th>column_5</th>\n",
       "      <th>column_6</th>\n",
       "    </tr>\n",
       "  </thead>\n",
       "  <tbody>\n",
       "    <tr>\n",
       "      <th>1</th>\n",
       "      <td>0.673967</td>\n",
       "      <td>0.745199</td>\n",
       "      <td>0.672293</td>\n",
       "      <td>0.081753</td>\n",
       "      <td>0.472983</td>\n",
       "      <td>0.852298</td>\n",
       "    </tr>\n",
       "    <tr>\n",
       "      <th>2</th>\n",
       "      <td>0.544825</td>\n",
       "      <td>abc</td>\n",
       "      <td>0.834567</td>\n",
       "      <td>0.168153</td>\n",
       "      <td>0.284788</td>\n",
       "      <td>0.435292</td>\n",
       "    </tr>\n",
       "    <tr>\n",
       "      <th>3</th>\n",
       "      <td>0.795925</td>\n",
       "      <td>0.85956</td>\n",
       "      <td>0.565921</td>\n",
       "      <td>0.019717</td>\n",
       "      <td>0.553967</td>\n",
       "      <td>0.335085</td>\n",
       "    </tr>\n",
       "    <tr>\n",
       "      <th>4</th>\n",
       "      <td>0.576247</td>\n",
       "      <td>0.940779</td>\n",
       "      <td>0.180192</td>\n",
       "      <td>0.119180</td>\n",
       "      <td>0.698528</td>\n",
       "      <td>0.410894</td>\n",
       "    </tr>\n",
       "    <tr>\n",
       "      <th>5</th>\n",
       "      <td>0.425125</td>\n",
       "      <td>0.880262</td>\n",
       "      <td>0.750048</td>\n",
       "      <td>0.612475</td>\n",
       "      <td>0.280885</td>\n",
       "      <td>0.961179</td>\n",
       "    </tr>\n",
       "    <tr>\n",
       "      <th>6</th>\n",
       "      <td>0.108026</td>\n",
       "      <td>0.833565</td>\n",
       "      <td>0.190349</td>\n",
       "      <td>0.137149</td>\n",
       "      <td>0.530741</td>\n",
       "      <td>0.049349</td>\n",
       "    </tr>\n",
       "  </tbody>\n",
       "</table>\n",
       "</div>"
      ],
      "text/plain": [
       "   column_1  column_2  column_3  column_4  column_5  column_6\n",
       "1  0.673967  0.745199  0.672293  0.081753  0.472983  0.852298\n",
       "2  0.544825       abc  0.834567  0.168153  0.284788  0.435292\n",
       "3  0.795925   0.85956  0.565921  0.019717  0.553967  0.335085\n",
       "4  0.576247  0.940779  0.180192  0.119180  0.698528  0.410894\n",
       "5  0.425125  0.880262  0.750048  0.612475  0.280885  0.961179\n",
       "6  0.108026  0.833565  0.190349  0.137149  0.530741  0.049349"
      ]
     },
     "execution_count": 15,
     "metadata": {},
     "output_type": "execute_result"
    }
   ],
   "source": [
    "# Q5. Replace the data present in the second row of column, ‘column_2’ by a string variable then find the \n",
    "# mean of column, column_2.\n",
    "\n",
    "# If you are getting errors in executing it then explain why.\n",
    "\n",
    "# [Hint: To replace the data use df1.loc[] and equate this to string data of your choice.]\n",
    "\n",
    "df1.loc[2, 'column_2'] = 'abc'\n",
    "df1"
   ]
  },
  {
   "cell_type": "code",
   "execution_count": 16,
   "id": "4a997bcc-39a8-4372-b700-6d817e56b886",
   "metadata": {},
   "outputs": [],
   "source": [
    "# Q6. What do you understand about the windows function in pandas and list the types of windows \n",
    "# functions?\n",
    "\n",
    "\n",
    "## In pandas, window functions allow for calculations over subsets of data using various window types.\n",
    "## Rolling windows apply functions over a fixed-size moving window, such as calculating a rolling mean.\n",
    "## Expanding windows operate over an expanding subset that grows over time, useful for cumulative statistics\n",
    "## Exponential weighted windows apply weights that decrease exponentially, ideal for smoothing trends.\n",
    "## Additionally, rolling and expanding groupby functions enable these operations within specific groups of data.\n",
    "## These functions are essential for time series analysis and data smoothing."
   ]
  },
  {
   "cell_type": "code",
   "execution_count": 17,
   "id": "02b59a54-df0c-4575-b09a-0a91d6cf82dd",
   "metadata": {},
   "outputs": [
    {
     "name": "stdout",
     "output_type": "stream",
     "text": [
      "Current month: 7\n",
      "Current year: 2024\n"
     ]
    }
   ],
   "source": [
    "# Q7. Write a code to print only the current month and year at the time of answering this question.\n",
    "\n",
    "# [Hint: Use pandas.datetime function]\n",
    "\n",
    "now = pd.Timestamp.now()\n",
    "\n",
    "current_month = now.month\n",
    "current_year = now.year\n",
    "\n",
    "print(f\"Current month: {current_month}\")\n",
    "print(f\"Current year: {current_year}\")"
   ]
  },
  {
   "cell_type": "code",
   "execution_count": 18,
   "id": "fbf3adb9-8291-4e64-8229-410c01ae8f25",
   "metadata": {},
   "outputs": [
    {
     "name": "stdin",
     "output_type": "stream",
     "text": [
      "Enter the first date (YYYY-MM-DD):  2024-07-21\n",
      "Enter the second date (YYYY-MM-DD):  2024-07-19\n"
     ]
    },
    {
     "name": "stdout",
     "output_type": "stream",
     "text": [
      "Difference between the dates is -2 days, 0 hours, and 0 minutes.\n"
     ]
    }
   ],
   "source": [
    "# Q8. Write a Python program that takes in two dates as input (in the format YYYY-MM-DD) and \n",
    "# calculates the difference between them in days, hours, and minutes using Pandas time delta. The \n",
    "# program should prompt the user to enter the dates and display the result.\n",
    "\n",
    "def calculate_difference(date1_str, date2_str):\n",
    "    date1 = pd.Timestamp(date1_str)\n",
    "    date2 = pd.Timestamp(date2_str)\n",
    "    \n",
    "    difference = date2 - date1\n",
    "\n",
    "    days = difference.days\n",
    "    hours, remainder = divmod(difference.seconds, 3600)\n",
    "    minutes, seconds = divmod(remainder, 60)\n",
    "    \n",
    "    return days, hours, minutes\n",
    "\n",
    "date1_str = input(\"Enter the first date (YYYY-MM-DD): \")\n",
    "date2_str = input(\"Enter the second date (YYYY-MM-DD): \")\n",
    "\n",
    "days, hours, minutes = calculate_difference(date1_str, date2_str)\n",
    "\n",
    "print(f\"Difference between the dates is {days} days, {hours} hours, and {minutes} minutes.\")"
   ]
  },
  {
   "cell_type": "code",
   "execution_count": 25,
   "id": "a8421f02-cd24-47db-abc3-227f77f086ba",
   "metadata": {},
   "outputs": [
    {
     "name": "stdin",
     "output_type": "stream",
     "text": [
      "Enter the CSV file path:  data.csv\n",
      "Enter the column name to convert:  Category\n",
      "Enter the category order (comma-separated):  B,A,C\n"
     ]
    },
    {
     "name": "stdout",
     "output_type": "stream",
     "text": [
      "\n",
      "Sorted DataFrame:\n",
      "  Category  Value\n",
      "0        B     10\n",
      "3        B     15\n",
      "7        B     18\n",
      "1        A     20\n",
      "4        A     25\n",
      "6        A     20\n",
      "9        A     22\n",
      "2        C     30\n",
      "5        C     35\n",
      "8        C     32\n"
     ]
    }
   ],
   "source": [
    "# Q9. Write a Python program that reads a CSV file containing categorical data and converts a specified \n",
    "# column to a categorical data type. The program should prompt the user to enter the file path, column \n",
    "# name, and category order, and then display the sorted data.\n",
    "\n",
    "import pandas as pd\n",
    "\n",
    "def convert_and_sort_csv(file_path, column_name, category_order):\n",
    "    # Read the CSV file into a DataFrame\n",
    "    df = pd.read_csv(file_path)\n",
    "    \n",
    "    # Convert the specified column to a categorical data type with the given order\n",
    "    df[column_name] = pd.Categorical(df[column_name], categories=category_order, ordered=True)\n",
    "    \n",
    "    # Sort the DataFrame based on the specified column\n",
    "    sorted_df = df.sort_values(by=column_name)\n",
    "    \n",
    "    return sorted_df\n",
    "\n",
    "# Prompt user for input\n",
    "file_path = input(\"Enter the CSV file path: \")\n",
    "column_name = input(\"Enter the column name to convert: \")\n",
    "category_order = input(\"Enter the category order (comma-separated): \").split(',')\n",
    "\n",
    "# Remove leading and trailing spaces from category names\n",
    "category_order = [cat.strip() for cat in category_order]\n",
    "\n",
    "# Convert the specified column and sort the DataFrame\n",
    "sorted_df = convert_and_sort_csv(file_path, column_name, category_order)\n",
    "\n",
    "# Display the sorted DataFrame\n",
    "print(\"\\nSorted DataFrame:\")\n",
    "print(sorted_df)"
   ]
  },
  {
   "cell_type": "code",
   "execution_count": 28,
   "id": "d8d2a74f-c536-4595-857c-c166568a3a35",
   "metadata": {},
   "outputs": [
    {
     "name": "stdin",
     "output_type": "stream",
     "text": [
      "Enter the CSV file path:  sales_data.csv\n"
     ]
    },
    {
     "data": {
      "image/png": "[encoded data removed]",
      "text/plain": [
       "<Figure size 1000x700 with 1 Axes>"
      ]
     },
     "metadata": {},
     "output_type": "display_data"
    }
   ],
   "source": [
    "# Q10. Write a Python program that reads a CSV file containing sales data for different products and \n",
    "# visualizes the data using a stacked bar chart to show the sales of each product category over time. The \n",
    "# program should prompt the user to enter the file path and display the chart\n",
    "\n",
    "def plot_stacked_bar_chart(file_path):\n",
    "    df = pd.read_csv(file_path)\n",
    "    \n",
    "    df['Date'] = pd.to_datetime(df['Date'])\n",
    "    \n",
    "    df.set_index('Date', inplace=True)\n",
    "    pivot_df = df.pivot_table(index=df.index, columns='Product Category', values='Sales', aggfunc='sum')\n",
    "    \n",
    "    ax = pivot_df.plot(kind='bar', stacked=True, figsize=(10, 7), colormap='tab20')\n",
    "    \n",
    "    ax.set_title('Sales by Product Category Over Time')\n",
    "    ax.set_xlabel('Date')\n",
    "    ax.set_ylabel('Sales')\n",
    "\n",
    "\n",
    "file_path = input(\"Enter the CSV file path: \")\n",
    "\n",
    "plot_stacked_bar_chart(file_path)"
   ]
  },
  {
   "cell_type": "code",
   "execution_count": 32,
   "id": "bd97373c-4552-4a76-a688-f122824dc09c",
   "metadata": {},
   "outputs": [
    {
     "name": "stdin",
     "output_type": "stream",
     "text": [
      "Enter the CSV file path:  student_scores.csv\n"
     ]
    },
    {
     "name": "stdout",
     "output_type": "stream",
     "text": [
      "  Statistic  Value\n",
      "0      Mean   83.5\n",
      "1    Median   85.0\n",
      "2      Mode   85.0\n"
     ]
    }
   ],
   "source": [
    "# Q11. You are given a CSV file containing student data that includes the student ID and their test score. Write \n",
    "# a Python program that reads the CSV file, calculates the mean, median, and mode of the test scores, and \n",
    "# displays the results in a table.\n",
    "\n",
    "# The program should do the followingM\n",
    "# Prompt the user to enter the file path of the CSV file containing the student dataR\n",
    "# Read the CSV file into a Pandas DataFrameR\n",
    "# Calculate the mean, median, and mode of the test scores using Pandas toolsR\n",
    "# Display the mean, median, and mode in a table.\n",
    "\n",
    "def calculate_statistics(file_path):\n",
    "    df = pd.read_csv(file_path)\n",
    "    \n",
    "    mean_score = df['Test Score'].mean()\n",
    "    median_score = df['Test Score'].median()\n",
    "    mode_score = df['Test Score'].mode().values[0]\n",
    "\n",
    "    statistics_df = pd.DataFrame({\n",
    "        'Statistic': ['Mean', 'Median', 'Mode'],\n",
    "        'Value': [mean_score, median_score, mode_score]\n",
    "    })\n",
    "    \n",
    "    return statistics_df\n",
    "\n",
    "file_path = input(\"Enter the CSV file path: \")\n",
    "\n",
    "result_df = calculate_statistics(file_path)\n",
    "\n",
    "print(result_df)"
   ]
  },
  {
   "cell_type": "code",
   "execution_count": null,
   "id": "c7e03b28-28e9-4ca0-be4c-9c323eeef4d3",
   "metadata": {},
   "outputs": [],
   "source": []
  },
  {
   "cell_type": "code",
   "execution_count": null,
   "id": "697a3bab-e86a-45be-a39d-17bf16c9b9dd",
   "metadata": {},
   "outputs": [],
   "source": []
  },
  {
   "cell_type": "code",
   "execution_count": null,
   "id": "e30e413f-e178-46d8-8e77-7255c1fc0e51",
   "metadata": {},
   "outputs": [],
   "source": []
  }
 ],
 "metadata": {
  "kernelspec": {
   "display_name": "Python 3 (ipykernel)",
   "language": "python",
   "name": "python3"
  },
  "language_info": {
   "codemirror_mode": {
    "name": "ipython",
    "version": 3
   },
   "file_extension": ".py",
   "mimetype": "text/x-python",
   "name": "python",
   "nbconvert_exporter": "python",
   "pygments_lexer": "ipython3",
   "version": "3.10.8"
  }
 },
 "nbformat": 4,
 "nbformat_minor": 5
}
